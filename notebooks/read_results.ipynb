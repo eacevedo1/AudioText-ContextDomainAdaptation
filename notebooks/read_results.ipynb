{
 "cells": [
  {
   "cell_type": "markdown",
   "metadata": {},
   "source": [
    "# Notebook to plot results from 'sound_classification.py'"
   ]
  },
  {
   "cell_type": "markdown",
   "metadata": {},
   "source": [
    "## Import Libraries"
   ]
  },
  {
   "cell_type": "code",
   "execution_count": 1,
   "metadata": {},
   "outputs": [],
   "source": [
    "# Import the necessary libraries\n",
    "import os\n",
    "import sys\n",
    "import pandas as pd\n",
    "import re\n",
    "import numpy as np\n",
    "import matplotlib.pyplot as plt\n",
    "import git\n",
    "\n",
    "# Get the root directory of the project\n",
    "ROOT_DIR = git.Repo(\".\", search_parent_directories=True).working_tree_dir\n",
    "sys.path.append(ROOT_DIR)"
   ]
  },
  {
   "cell_type": "markdown",
   "metadata": {},
   "source": [
    "## Get the results filenames"
   ]
  },
  {
   "cell_type": "code",
   "execution_count": null,
   "metadata": {},
   "outputs": [],
   "source": [
    "# Function to parse information from the filename\n",
    "def parse_filename(filename):\n",
    "    base_filename = os.path.basename(filename)\n",
    "    name_parts = base_filename.replace('.txt', '').split('_')\n",
    "    embedding_name = name_parts[0]\n",
    "    mode = name_parts[3]\n",
    "    modality = name_parts[4]\n",
    "    temperature = name_parts[5]\n",
    "    return embedding_name, mode, modality, temperature"
   ]
  },
  {
   "cell_type": "code",
   "execution_count": 36,
   "metadata": {},
   "outputs": [],
   "source": [
    "results_files = os.listdir(os.path.join(ROOT_DIR, \"results\"))\n",
    "results_files = [f for f in results_files if f.endswith(\".txt\")]"
   ]
  },
  {
   "cell_type": "code",
   "execution_count": 37,
   "metadata": {},
   "outputs": [],
   "source": [
    "# Define a regex pattern to extract Model, train_type, and accuracy\n",
    "pattern = re.compile(r\"Model=(.*), train_type=(.*), acc/mAP=(.*)%\")\n",
    "\n",
    "# Define a list to store the extracted data\n",
    "data = []\n",
    "\n",
    "# Loop over file paths and extract data\n",
    "for filename in results_files:\n",
    "    with open(os.path.join(ROOT_DIR, \"results\", filename), 'r') as f:\n",
    "        content = f.read()\n",
    "        match = pattern.search(content)\n",
    "        if match:\n",
    "            model = match.group(1)\n",
    "            train_type = match.group(2)\n",
    "            acc = float(match.group(3))\n",
    "            embedding_name, mode, modality, temperature = parse_filename(filename)\n",
    "            data.append([model, train_type, acc, embedding_name, modality, temperature])\n",
    "\n",
    "# Create a DataFrame from the extracted data\n",
    "df = pd.DataFrame(data, columns=['Model', 'Mode', 'Accuracy (%)', 'Embedding_Name', 'Modality', 'Temperature'])"
   ]
  },
  {
   "cell_type": "code",
   "execution_count": null,
   "metadata": {},
   "outputs": [],
   "source": [
    "df.head(5)"
   ]
  },
  {
   "cell_type": "markdown",
   "metadata": {},
   "source": [
    "## Plot the results"
   ]
  },
  {
   "cell_type": "code",
   "execution_count": 66,
   "metadata": {},
   "outputs": [],
   "source": [
    "def plot_best_accuracy(df, mode):\n",
    "    # Filter the DataFrame by the given mode\n",
    "    df_mode = df[df['Mode'] == mode]\n",
    "    \n",
    "    # Find the best accuracy for each embedding and modality (text, audio, none)\n",
    "    best_df = df_mode.groupby(['Embedding_Name', 'Modality'])['Accuracy (%)'].max().unstack(fill_value=0)\n",
    "    \n",
    "    # Reorder columns if necessary (text, audio, none)\n",
    "    best_df = best_df[['None', 'text', 'audio']]\n",
    "    \n",
    "    # Plot setup\n",
    "    fig, ax = plt.subplots(figsize=(20, 12), dpi=500)\n",
    "    \n",
    "    # Define the colors\n",
    "    colors = [\n",
    "        (232/255, 74/255, 59/255),    # Red for text\n",
    "        (34/255, 34/255, 84/255),     # Dark Blue for audio\n",
    "        (246/255, 178/255, 79/255)    # Mustard Yellow for none\n",
    "    ]\n",
    "    \n",
    "    # Plot the data as a grouped bar plot\n",
    "    best_df.plot(kind='bar', ax=ax, width=0.91, color=colors, zorder=3)\n",
    "    \n",
    "    # Customize the plot\n",
    "    plt.xticks(rotation=45, ha='right', fontsize=30)\n",
    "    plt.ylabel('Accuracy (%)', fontsize=32)\n",
    "    plt.xlabel('Embedding Name', fontsize=32)\n",
    "    ax.set_xlim(-0.6, len(best_df) - 0.4)  # Reducing the white space around the bars\n",
    "    \n",
    "    # Adding values on top of each bar with correct color logic\n",
    "    for i, p in enumerate(ax.patches):\n",
    "        # Get the correct modality based on the column (None=Red, text=Dark Blue, audio=Mustard Yellow)\n",
    "        if i < 7:\n",
    "            modality_index = 0\n",
    "        elif i < 15:\n",
    "            modality_index = 1\n",
    "        else:\n",
    "            modality_index = 2\n",
    "        \n",
    "        # Only annotate if the bar height is non-zero (ignore zero-height bars)\n",
    "        if p.get_height() > 0:\n",
    "            color = colors[modality_index]\n",
    "            ax.annotate(f'{p.get_height():.1f}', \n",
    "                        (p.get_x() + p.get_width() / 2 - 0.03, p.get_height() + 0.01), \n",
    "                        ha='center', va='bottom', fontsize=22, color=color, weight='bold')\n",
    "\n",
    "    \n",
    "    # Tight layout\n",
    "    plt.tight_layout()\n",
    "\n",
    "    # Increase font size of the y axis\n",
    "    plt.yticks(fontsize=30)\n",
    "\n",
    "    # Put the legend outside the plot\n",
    "    plt.legend(loc='lower center', bbox_to_anchor=(0.5, 1.01), fontsize=32, ncol=3)\n",
    "\n",
    "    # Add grid on the background\n",
    "    plt.grid(axis='y', linestyle='--', alpha=0.5, zorder=0)\n",
    "\n",
    "    # y-axis limits\n",
    "    plt.ylim(40, 85)\n",
    "\n",
    "    # Save the plot as a PDF file with bbox_inches to avoid cropping\n",
    "    # plt.savefig(\"plot_output.pdf\", format='pdf', bbox_inches='tight')\n",
    "\n",
    "    # Display the plot\n",
    "    plt.show()"
   ]
  },
  {
   "cell_type": "code",
   "execution_count": null,
   "metadata": {},
   "outputs": [],
   "source": [
    "# Plot ZS\n",
    "plot_best_accuracy(df, mode='zs')"
   ]
  },
  {
   "cell_type": "code",
   "execution_count": null,
   "metadata": {},
   "outputs": [],
   "source": [
    "# Plot TGAP\n",
    "plot_best_accuracy(df, mode='tgap')"
   ]
  },
  {
   "cell_type": "code",
   "execution_count": null,
   "metadata": {},
   "outputs": [],
   "source": [
    "# Plot SV\n",
    "plot_best_accuracy(df, mode='sv')"
   ]
  }
 ],
 "metadata": {
  "kernelspec": {
   "display_name": "atm-domain-adapt",
   "language": "python",
   "name": "python3"
  },
  "language_info": {
   "codemirror_mode": {
    "name": "ipython",
    "version": 3
   },
   "file_extension": ".py",
   "mimetype": "text/x-python",
   "name": "python",
   "nbconvert_exporter": "python",
   "pygments_lexer": "ipython3",
   "version": "3.9.19"
  }
 },
 "nbformat": 4,
 "nbformat_minor": 2
}
